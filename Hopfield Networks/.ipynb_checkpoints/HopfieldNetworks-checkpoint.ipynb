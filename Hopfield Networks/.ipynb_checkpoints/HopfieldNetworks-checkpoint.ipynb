{
 "cells": [
  {
   "cell_type": "markdown",
   "metadata": {},
   "source": [
    "### HW 1.1"
   ]
  },
  {
   "cell_type": "code",
   "execution_count": 75,
   "metadata": {},
   "outputs": [],
   "source": [
    "import numpy as np\n",
    "\n",
    "\n",
    "def store_patterns(X):\n",
    "    bits = 120\n",
    "    W = np.matmul(np.matrix.transpose(X), X) - (X.shape[0]*np.identity(n=X.shape[1]))\n",
    "    return W/bits"
   ]
  },
  {
   "cell_type": "code",
   "execution_count": 73,
   "metadata": {},
   "outputs": [
    {
     "name": "stdout",
     "output_type": "stream",
     "text": [
      "No. of patterns: 12.\n",
      "Incorrectly flipped neurons :15, (0.00015:.4f%)\n",
      "No. of patterns: 24.\n",
      "Incorrectly flipped neurons :284, (0.00284:.4f%)\n",
      "No. of patterns: 48.\n",
      "Incorrectly flipped neurons :1254, (0.01254:.4f%)\n",
      "No. of patterns: 70.\n",
      "Incorrectly flipped neurons :1813, (0.01813:.4f%)\n",
      "No. of patterns: 100.\n",
      "Incorrectly flipped neurons :2118, (0.02118:.4f%)\n",
      "No. of patterns: 120.\n",
      "Incorrectly flipped neurons :2215, (0.02215:.4f%)\n"
     ]
    }
   ],
   "source": [
    "bits = 120\n",
    "trials = 100000\n",
    "for pat in [12, 24, 48, 70, 100, 120]:\n",
    "    e = 0\n",
    "    for t in range(trials):\n",
    "        # generate P rand_patt (12, 24, ...): 2*randi([0,1], N, P) - 1      ###Columns vs Rows? Rows store the -1, +1\n",
    "        patterns = 2*np.random.randint(0,2, size=(pat,120))-1\n",
    "        # store patterns: hebbs rule for 1 to 12\n",
    "        W = store_patterns(patterns) #W should be NxN --> 120\n",
    "        #choose a random number between 1, pat\n",
    "        Pr = np.random.randint(0,pat)\n",
    "        #choose a random number between 1, N\n",
    "        Nr = np.random.randint(0,120)\n",
    "        #update with b = Wx(pr)\n",
    "        x = np.copy(patterns[Pr])\n",
    "        b = np.dot(W[Nr][:], patterns[Pr])\n",
    "        if b >= 0:\n",
    "            patterns[Pr][Nr] = 1\n",
    "        else:\n",
    "            patterns[Pr][Nr] = -1\n",
    "            \n",
    "        #check for error: if x_temp != X_Nr^(Pr)\n",
    "        e = e if np.all(x==patterns[Pr]) else e+1\n",
    "\n",
    "    P_error = e/trials\n",
    "    print(\n",
    "        f\"No. of patterns: {pat}.\\nIncorrectly flipped neurons :{e}, ({P_error:.4%})\"\n",
    "    )"
   ]
  },
  {
   "cell_type": "markdown",
   "metadata": {},
   "source": [
    "### HW 1.2"
   ]
  },
  {
   "cell_type": "code",
   "execution_count": 41,
   "metadata": {},
   "outputs": [],
   "source": [
    "import numpy as np\n",
    "import pickle\n",
    "\n",
    "def store_patterns(X):\n",
    "    bits = 160\n",
    "    W = np.matmul(np.matrix.transpose(X), X) - (X.shape[0]*np.identity(n=X.shape[1]))\n",
    "    return W/bits\n",
    "\n",
    "def visualize(pattern):\n",
    "    if pattern.shape == (160,):\n",
    "        pattern = np.reshape(pattern, (16,10))\n",
    "    else:\n",
    "        print(\"Pattern is not in required shape\")\n",
    "        return None\n",
    "\n",
    "    final = []\n",
    "    for i in range(pattern.shape[0]):\n",
    "        a1 = []\n",
    "        for j in range(pattern.shape[1]):\n",
    "            if pattern[i,j] == 1:\n",
    "                a1.append(\"■\")\n",
    "            else:\n",
    "                a1.append(\"□\")\n",
    "                \n",
    "        final.append(a1)\n",
    "    \n",
    "    print(np.reshape(final, (16,10)))\n",
    "    "
   ]
  },
  {
   "cell_type": "code",
   "execution_count": 42,
   "metadata": {},
   "outputs": [],
   "source": [
    "with open(\"patterns.pkl\", \"rb\") as pattern_file:\n",
    "    patterns = pickle.load(pattern_file)\n",
    "patterns = np.transpose(patterns)\n",
    "\n",
    "with open(\"distorted.pkl\", \"rb\") as test_vectors_file:\n",
    "    test_vectors = pickle.load(test_vectors_file)\n",
    "\n",
    "W = store_patterns(patterns)"
   ]
  },
  {
   "cell_type": "code",
   "execution_count": 51,
   "metadata": {},
   "outputs": [
    {
     "name": "stdout",
     "output_type": "stream",
     "text": [
      "[['□' '■' '□' '■' '□' '■' '□' '■' '■' '□']\n",
      " ['□' '■' '□' '■' '□' '■' '□' '■' '■' '□']\n",
      " ['■' '□' '■' '□' '■' '■' '□' '■' '■' '□']\n",
      " ['■' '□' '■' '□' '■' '■' '□' '■' '■' '□']\n",
      " ['■' '□' '■' '□' '■' '■' '□' '■' '■' '□']\n",
      " ['■' '□' '■' '□' '■' '■' '□' '■' '■' '□']\n",
      " ['■' '□' '■' '□' '■' '■' '□' '■' '■' '□']\n",
      " ['□' '■' '□' '■' '□' '■' '□' '■' '■' '□']\n",
      " ['□' '■' '□' '■' '□' '■' '□' '■' '■' '□']\n",
      " ['□' '■' '□' '□' '■' '□' '■' '□' '■' '□']\n",
      " ['□' '■' '□' '□' '■' '□' '■' '□' '■' '□']\n",
      " ['□' '■' '□' '□' '■' '□' '■' '□' '■' '□']\n",
      " ['□' '■' '□' '□' '■' '□' '■' '□' '■' '□']\n",
      " ['□' '■' '□' '□' '■' '□' '■' '□' '■' '□']\n",
      " ['□' '■' '□' '■' '□' '■' '□' '■' '■' '□']\n",
      " ['□' '■' '□' '■' '□' '■' '□' '■' '■' '□']]\n"
     ]
    }
   ],
   "source": [
    "x_test = np.copy(test_vectors[2])\n",
    "visualize(x_test)"
   ]
  },
  {
   "cell_type": "code",
   "execution_count": 52,
   "metadata": {},
   "outputs": [
    {
     "name": "stdout",
     "output_type": "stream",
     "text": [
      "Counter 2\n",
      "[['□' '■' '■' '□' '□' '□' '□' '■' '■' '□']\n",
      " ['□' '■' '■' '□' '□' '□' '□' '■' '■' '□']\n",
      " ['□' '■' '■' '□' '□' '□' '□' '■' '■' '□']\n",
      " ['□' '■' '■' '□' '□' '□' '□' '■' '■' '□']\n",
      " ['□' '■' '■' '□' '□' '□' '□' '■' '■' '□']\n",
      " ['□' '■' '■' '□' '□' '□' '□' '■' '■' '□']\n",
      " ['□' '■' '■' '□' '□' '□' '□' '■' '■' '□']\n",
      " ['□' '■' '■' '■' '■' '■' '■' '■' '■' '□']\n",
      " ['□' '■' '■' '■' '■' '■' '■' '■' '■' '□']\n",
      " ['□' '□' '□' '□' '□' '□' '□' '■' '■' '□']\n",
      " ['□' '□' '□' '□' '□' '□' '□' '■' '■' '□']\n",
      " ['□' '□' '□' '□' '□' '□' '□' '■' '■' '□']\n",
      " ['□' '□' '□' '□' '□' '□' '□' '■' '■' '□']\n",
      " ['□' '□' '□' '□' '□' '□' '□' '■' '■' '□']\n",
      " ['□' '□' '□' '□' '□' '□' '□' '■' '■' '□']\n",
      " ['□' '□' '□' '□' '□' '□' '□' '■' '■' '□']]\n",
      "\n",
      "List representation:\n",
      "[[-1.0, 1.0, 1.0, -1.0, -1.0, -1.0, -1.0, 1.0, 1.0, -1.0], [-1.0, 1.0, 1.0, -1.0, -1.0, -1.0, -1.0, 1.0, 1.0, -1.0], [-1.0, 1.0, 1.0, -1.0, -1.0, -1.0, -1.0, 1.0, 1.0, -1.0], [-1.0, 1.0, 1.0, -1.0, -1.0, -1.0, -1.0, 1.0, 1.0, -1.0], [-1.0, 1.0, 1.0, -1.0, -1.0, -1.0, -1.0, 1.0, 1.0, -1.0], [-1.0, 1.0, 1.0, -1.0, -1.0, -1.0, -1.0, 1.0, 1.0, -1.0], [-1.0, 1.0, 1.0, -1.0, -1.0, -1.0, -1.0, 1.0, 1.0, -1.0], [-1.0, 1.0, 1.0, 1.0, 1.0, 1.0, 1.0, 1.0, 1.0, -1.0], [-1.0, 1.0, 1.0, 1.0, 1.0, 1.0, 1.0, 1.0, 1.0, -1.0], [-1.0, -1.0, -1.0, -1.0, -1.0, -1.0, -1.0, 1.0, 1.0, -1.0], [-1.0, -1.0, -1.0, -1.0, -1.0, -1.0, -1.0, 1.0, 1.0, -1.0], [-1.0, -1.0, -1.0, -1.0, -1.0, -1.0, -1.0, 1.0, 1.0, -1.0], [-1.0, -1.0, -1.0, -1.0, -1.0, -1.0, -1.0, 1.0, 1.0, -1.0], [-1.0, -1.0, -1.0, -1.0, -1.0, -1.0, -1.0, 1.0, 1.0, -1.0], [-1.0, -1.0, -1.0, -1.0, -1.0, -1.0, -1.0, 1.0, 1.0, -1.0], [-1.0, -1.0, -1.0, -1.0, -1.0, -1.0, -1.0, 1.0, 1.0, -1.0]]\n"
     ]
    }
   ],
   "source": [
    "bits = 160\n",
    "counter = 0\n",
    "while True:\n",
    "    temp = np.copy(x_test)\n",
    "    for i in range(bits):\n",
    "        # neu = np.random.randint(0,bits)\n",
    "        b = np.dot(W[i,:], x_test)\n",
    "        if b>=0:\n",
    "            x_test[i] = 1\n",
    "        else:\n",
    "            x_test[i] = -1\n",
    "\n",
    "    counter+=1\n",
    "    if np.all(temp == x_test):\n",
    "        break\n",
    "        \n",
    "print(\"Counter\", counter)\n",
    "visualize(x_test)\n",
    "y = np.reshape(np.copy(x_test), (16,10))\n",
    "print(f\"\\nList representation:\\n{y.tolist()}\")"
   ]
  },
  {
   "cell_type": "code",
   "execution_count": null,
   "metadata": {},
   "outputs": [],
   "source": [
    "#Below cell is pseudo code for above"
   ]
  },
  {
   "cell_type": "code",
   "execution_count": null,
   "metadata": {},
   "outputs": [],
   "source": [
    "bits = 160\n",
    "#He used Nx5, I'll use 5xN\n",
    "#Generate matrix:\n",
    "#     W = np.zeros_like(N,N)\n",
    "#     loop m=1 to p:\n",
    "#         temp = mtimes(Xmiu, Xmiu.T) <-- may be different for me (yes I think so)\n",
    "#         W = W + temp (remember to normalize with W/N, and diagonal weights=0)\n",
    "\n",
    "# X_test vector (Same format as the stored patterns) 1X160\n",
    "\n",
    "#Loop over 1 to T:\n",
    "    #Loop bits 1 to N:\n",
    "#         compute localfield (bk) for each bit\n",
    "#         bk = W x_test\n",
    "#         use Kth bit\n",
    "#         x_test(k) - sgn(bk)\n",
    "#    end bits\n",
    "# end T loop"
   ]
  },
  {
   "cell_type": "markdown",
   "metadata": {},
   "source": [
    "### HW 1.3"
   ]
  },
  {
   "cell_type": "code",
   "execution_count": 1,
   "metadata": {},
   "outputs": [],
   "source": [
    "# trials = 200\n",
    "#loop runs 1 to 100:\n",
    "    #generate random patterns:\n",
    "    #patterns = 2*np.random.randint(0,2, size=(pat,120))-1\n",
    "    #generate weights (Wii = 0 and normalization=W/N)\n",
    "    #loop over trials\n",
    "        #loop time 1 to 1000 <-- before this step, we use pattern 1 -> x_temp\n",
    "            #loop bits 1 to N\n",
    "                #compute local field (b)\n",
    "#                 x_temp = pattern\n",
    "#                 b = W x_temp\n",
    "                #choose bit k\n",
    "                 #b(k) = something\n",
    "                #choose random number between 0 and 1 -> r\n",
    "                #if r< 1/ (1+ e^(-B*b(k)):\n",
    "#                     x_temp = +1\n",
    "                #else:\n",
    "                    # x_temp = -1\n",
    "                #endif"
   ]
  },
  {
   "cell_type": "code",
   "execution_count": 2,
   "metadata": {},
   "outputs": [],
   "source": [
    "import numpy as np\n",
    "def store_patterns(X):\n",
    "    bits = 200\n",
    "    W = np.matmul(np.matrix.transpose(X), X) - (X.shape[0]*np.identity(n=X.shape[1]))\n",
    "    return W/bits\n",
    "\n",
    "def sigmoid(x, beta):\n",
    "    return 1/(1+np.exp(-2*beta*x))\n",
    "    "
   ]
  },
  {
   "cell_type": "code",
   "execution_count": 35,
   "metadata": {
    "scrolled": true
   },
   "outputs": [
    {
     "name": "stdout",
     "output_type": "stream",
     "text": [
      "m_1 = 0.011\n"
     ]
    }
   ],
   "source": [
    "fin = np.array([])\n",
    "for i in range(100):\n",
    "    patterns = 2*np.random.randint(0,2, size=(45,200))-1\n",
    "    W = store_patterns(patterns)\n",
    "    x_test = np.copy(patterns[0])\n",
    "    S_vec = np.copy(x_test)\n",
    "    for trial in range(1000):\n",
    "        for n in range(200):\n",
    "            b = np.dot(W[n, :], x_test)\n",
    "            r = np.random.random()\n",
    "            \n",
    "            if r < sigmoid(b, 2):\n",
    "                x_test[n] = 1\n",
    "            else:\n",
    "                x_test[n] = -1\n",
    "        #end bits loop\n",
    "        S_vec = S_vec+x_test\n",
    "    q = np.dot(S_vec, patterns[0])\n",
    "    q = q/(2*10**5)\n",
    "    \n",
    "    fin = np.append(fin, q)\n",
    "m1 = np.sum(fin)/fin.shape\n",
    "print(\"m_1 =\", round(m1[0], 3))"
   ]
  }
 ],
 "metadata": {
  "kernelspec": {
   "display_name": "PyCharm (Assignment4)",
   "language": "python",
   "name": "pycharm-46474081"
  },
  "language_info": {
   "codemirror_mode": {
    "name": "ipython",
    "version": 3
   },
   "file_extension": ".py",
   "mimetype": "text/x-python",
   "name": "python",
   "nbconvert_exporter": "python",
   "pygments_lexer": "ipython3",
   "version": "3.7.1"
  }
 },
 "nbformat": 4,
 "nbformat_minor": 4
}
