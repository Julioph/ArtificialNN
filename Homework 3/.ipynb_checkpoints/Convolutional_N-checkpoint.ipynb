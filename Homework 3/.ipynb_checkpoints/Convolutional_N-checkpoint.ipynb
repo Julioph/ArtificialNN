{
 "cells": [
  {
   "cell_type": "code",
   "execution_count": 37,
   "metadata": {},
   "outputs": [],
   "source": [
    "import numpy as np\n",
    "np.random.seed(42)\n",
    "\n",
    "import keras\n",
    "from keras.datasets import mnist\n",
    "from keras.layers import Dense, Flatten\n",
    "from keras.layers import Conv2D, MaxPooling2D\n",
    "from keras import initializers\n",
    "from keras import callbacks\n",
    "\n",
    "import matplotlib.pyplot as plt\n",
    "\n",
    "# To set the color used to display monochrome images.\n",
    "plt.rcParams['image.cmap'] = 'Blues'"
   ]
  },
  {
   "cell_type": "markdown",
   "metadata": {},
   "source": [
    "### Load data "
   ]
  },
  {
   "cell_type": "code",
   "execution_count": 38,
   "metadata": {},
   "outputs": [],
   "source": [
    "(x_train, y_train), (x_test, y_test) = mnist.load_data()\n",
    "img_width, img_height = x_train[0].shape\n",
    "#Reshape into n x 28 x 28 x 1:\n",
    "x_train = x_train.reshape(x_train.shape[0], img_width, img_height, 1)\n",
    "x_test = x_test.reshape(x_test.shape[0], img_width, img_height, 1)"
   ]
  },
  {
   "cell_type": "markdown",
   "metadata": {},
   "source": [
    "#### Image number 25081"
   ]
  },
  {
   "cell_type": "code",
   "execution_count": 39,
   "metadata": {},
   "outputs": [
    {
     "data": {
      "text/plain": [
       "<matplotlib.image.AxesImage at 0x18fb045f670>"
      ]
     },
     "execution_count": 39,
     "metadata": {},
     "output_type": "execute_result"
    },
    {
     "data": {
      "image/png": "[encoded data removed]",
      "text/plain": [
       "<Figure size 432x288 with 1 Axes>"
      ]
     },
     "metadata": {
      "needs_background": "light"
     },
     "output_type": "display_data"
    }
   ],
   "source": [
    "plt.imshow(x_train[25081, :, :]/255)"
   ]
  },
  {
   "cell_type": "markdown",
   "metadata": {},
   "source": [
    "### Turn targets into one-hot vectors:"
   ]
  },
  {
   "cell_type": "code",
   "execution_count": 40,
   "metadata": {},
   "outputs": [
    {
     "data": {
      "text/plain": [
       "array([0., 0., 0., 0., 0., 0., 0., 0., 1., 0.], dtype=float32)"
      ]
     },
     "execution_count": 40,
     "metadata": {},
     "output_type": "execute_result"
    }
   ],
   "source": [
    "y_train = keras.utils.to_categorical(y_train)\n",
    "y_test = keras.utils.to_categorical(y_test)\n",
    "y_train[25081]"
   ]
  },
  {
   "cell_type": "markdown",
   "metadata": {},
   "source": [
    "### Define the Convolutional network No. 1"
   ]
  },
  {
   "cell_type": "code",
   "execution_count": 46,
   "metadata": {},
   "outputs": [
    {
     "name": "stdout",
     "output_type": "stream",
     "text": [
      "Epoch 1/3\n",
      "8/8 [==============================] - 26s 3s/step - loss: 2.2223 - accuracy: 0.2711 - val_loss: 2.0150 - val_accuracy: 0.4955\n",
      "Epoch 2/3\n",
      "8/8 [==============================] - 27s 3s/step - loss: 1.5857 - accuracy: 0.6482 - val_loss: 0.7718 - val_accuracy: 0.7901\n",
      "Epoch 3/3\n",
      "8/8 [==============================] - 26s 3s/step - loss: 0.6013 - accuracy: 0.8206 - val_loss: 0.4624 - val_accuracy: 0.8710\n"
     ]
    }
   ],
   "source": [
    "early_stopping = callbacks.EarlyStopping(monitor='val_loss', patience=5)\n",
    "\n",
    "model = keras.models.Sequential()\n",
    "model.add(Conv2D(20, input_shape=(img_width, img_height, 1), kernel_size=(5,5),\n",
    "                 strides=(1,1), activation='relu', padding='same',\n",
    "                 kernel_initializer=initializers.random_normal(mean=0.0, stddev=0.01)))\n",
    "\n",
    "model.add(MaxPooling2D(pool_size=(2,2), padding='valid', strides=(2,2)))\n",
    "model.add(Flatten())\n",
    "model.add(Dense(units=100, activation='relu', \n",
    "                kernel_initializer=initializers.random_normal(mean=0.0, stddev=0.01)))\n",
    "\n",
    "num_classes = 10\n",
    "model.add(Dense(units=num_classes, activation='softmax', \n",
    "                kernel_initializer=initializers.random_normal(mean=0.0, stddev=0.01)))\n",
    "\n",
    "# model.summary()\n",
    "model.compile(loss='categorical_crossentropy',\n",
    "              optimizer=keras.optimizers.SGD(learning_rate=0.001, momentum=0.9),\n",
    "              run_eagerly=True,\n",
    "              metrics=['accuracy'])\n",
    "\n",
    "trained_model= model.fit(x_train, y_train,\n",
    "              batch_size=8192,\n",
    "              epochs=3, verbose=1,\n",
    "              validation_data=(x_test, y_test),\n",
    "              validation_freq=1, shuffle=True, #30 val freq\n",
    "              callbacks = [early_stopping])"
   ]
  },
  {
   "cell_type": "code",
   "execution_count": 47,
   "metadata": {},
   "outputs": [
    {
     "data": {
      "text/plain": [
       "{'loss': [2.2222516536712646, 1.585702657699585, 0.6013208627700806],\n",
       " 'accuracy': [0.27113333344459534, 0.6482333540916443, 0.8205999732017517],\n",
       " 'val_loss': [2.0149972438812256, 0.7718266844749451, 0.4623754918575287],\n",
       " 'val_accuracy': [0.49549999833106995, 0.7900999784469604, 0.8709999918937683]}"
      ]
     },
     "execution_count": 47,
     "metadata": {},
     "output_type": "execute_result"
    }
   ],
   "source": [
    "trained_model.history"
   ]
  },
  {
   "cell_type": "code",
   "execution_count": 49,
   "metadata": {},
   "outputs": [
    {
     "name": "stdout",
     "output_type": "stream",
     "text": [
      "313/313 - 4s - loss: 0.4624 - accuracy: 0.8710\n"
     ]
    }
   ],
   "source": [
    "score = model.evaluate(x_test, y_test, verbose=2)"
   ]
  }
 ],
 "metadata": {
  "kernelspec": {
   "display_name": "Python 3",
   "language": "python",
   "name": "python3"
  },
  "language_info": {
   "codemirror_mode": {
    "name": "ipython",
    "version": 3
   },
   "file_extension": ".py",
   "mimetype": "text/x-python",
   "name": "python",
   "nbconvert_exporter": "python",
   "pygments_lexer": "ipython3",
   "version": "3.8.5"
  }
 },
 "nbformat": 4,
 "nbformat_minor": 4
}
