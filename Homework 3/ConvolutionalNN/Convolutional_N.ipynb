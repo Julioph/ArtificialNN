{
 "cells": [
  {
   "cell_type": "code",
   "execution_count": 1,
   "metadata": {},
   "outputs": [],
   "source": [
    "import numpy as np\n",
    "np.random.seed(42)\n",
    "\n",
    "import keras\n",
    "from keras.datasets import mnist\n",
    "from keras.layers import Dense, Flatten, Conv2D, MaxPooling2D\n",
    "from keras import activations\n",
    "from keras import initializers\n",
    "from keras import callbacks\n",
    "\n",
    "import matplotlib.pyplot as plt\n",
    "\n",
    "# To set the color used to display monochrome images.\n",
    "plt.rcParams['image.cmap'] = 'Blues'"
   ]
  },
  {
   "cell_type": "markdown",
   "metadata": {},
   "source": [
    "### Load data "
   ]
  },
  {
   "cell_type": "code",
   "execution_count": 2,
   "metadata": {},
   "outputs": [],
   "source": [
    "(x_train, y_train), (x_test, y_test) = mnist.load_data()\n",
    "img_width, img_height = x_train[0].shape\n",
    "#Reshape into n x 28 x 28 x 1:\n",
    "x_train = x_train.reshape(x_train.shape[0], img_width, img_height, 1)\n",
    "x_test = x_test.reshape(x_test.shape[0], img_width, img_height, 1)"
   ]
  },
  {
   "cell_type": "markdown",
   "metadata": {},
   "source": [
    "#### Image number 25081"
   ]
  },
  {
   "cell_type": "code",
   "execution_count": 3,
   "metadata": {},
   "outputs": [
    {
     "data": {
      "text/plain": "<matplotlib.image.AxesImage at 0x166991b9790>"
     },
     "execution_count": 3,
     "metadata": {},
     "output_type": "execute_result"
    },
    {
     "data": {
      "text/plain": "<Figure size 432x288 with 1 Axes>",
      "image/png": "[encoded data removed]"
     },
     "metadata": {
      "needs_background": "light"
     },
     "output_type": "display_data"
    }
   ],
   "source": [
    "plt.imshow(x_train[25081,:,:,0]/255)"
   ]
  },
  {
   "cell_type": "markdown",
   "metadata": {},
   "source": [
    "### Turn targets into one-hot vectors:"
   ]
  },
  {
   "cell_type": "code",
   "execution_count": 4,
   "metadata": {},
   "outputs": [
    {
     "data": {
      "text/plain": [
       "array([0., 0., 0., 0., 0., 0., 0., 0., 1., 0.], dtype=float32)"
      ]
     },
     "execution_count": 4,
     "metadata": {},
     "output_type": "execute_result"
    }
   ],
   "source": [
    "y_train = keras.utils.to_categorical(y_train)\n",
    "y_test = keras.utils.to_categorical(y_test)\n",
    "y_train[25081]"
   ]
  },
  {
   "cell_type": "markdown",
   "metadata": {},
   "source": [
    "### Define the Convolutional network No. 1"
   ]
  },
  {
   "cell_type": "code",
   "execution_count": 5,
   "metadata": {},
   "outputs": [
    {
     "name": "stdout",
     "output_type": "stream",
     "text": [
      "Epoch 1/60\n",
      "8/8 [==============================] - ETA: 0s - loss: 3.7532 - accuracy: 0.3936WARNING:tensorflow:Early stopping conditioned on metric `val_loss` which is not available. Available metrics are: loss,accuracy\n",
      "8/8 [==============================] - 3s 428ms/step - loss: 3.7532 - accuracy: 0.3936\n",
      "Epoch 2/60\n",
      "8/8 [==============================] - ETA: 0s - loss: 2.3025 - accuracy: 0.1186WARNING:tensorflow:Early stopping conditioned on metric `val_loss` which is not available. Available metrics are: loss,accuracy\n",
      "8/8 [==============================] - 4s 518ms/step - loss: 2.3025 - accuracy: 0.1186\n",
      "Epoch 3/60\n",
      "8/8 [==============================] - ETA: 0s - loss: 2.1219 - accuracy: 0.1996WARNING:tensorflow:Early stopping conditioned on metric `val_loss` which is not available. Available metrics are: loss,accuracy\n",
      "8/8 [==============================] - 4s 461ms/step - loss: 2.1219 - accuracy: 0.1996\n",
      "Epoch 4/60\n",
      "8/8 [==============================] - ETA: 0s - loss: 1.2823 - accuracy: 0.5824WARNING:tensorflow:Early stopping conditioned on metric `val_loss` which is not available. Available metrics are: loss,accuracy\n",
      "8/8 [==============================] - 4s 482ms/step - loss: 1.2823 - accuracy: 0.5824\n",
      "Epoch 5/60\n",
      "8/8 [==============================] - ETA: 0s - loss: 0.6416 - accuracy: 0.7922WARNING:tensorflow:Early stopping conditioned on metric `val_loss` which is not available. Available metrics are: loss,accuracy\n",
      "8/8 [==============================] - 4s 446ms/step - loss: 0.6416 - accuracy: 0.7922\n",
      "Epoch 6/60\n",
      "8/8 [==============================] - ETA: 0s - loss: 0.4169 - accuracy: 0.8730WARNING:tensorflow:Early stopping conditioned on metric `val_loss` which is not available. Available metrics are: loss,accuracy\n",
      "8/8 [==============================] - 4s 484ms/step - loss: 0.4169 - accuracy: 0.8730\n",
      "Epoch 7/60\n",
      "8/8 [==============================] - ETA: 0s - loss: 0.3047 - accuracy: 0.9092WARNING:tensorflow:Early stopping conditioned on metric `val_loss` which is not available. Available metrics are: loss,accuracy\n",
      "8/8 [==============================] - 4s 477ms/step - loss: 0.3047 - accuracy: 0.9092\n",
      "Epoch 8/60\n",
      "8/8 [==============================] - ETA: 0s - loss: 0.2232 - accuracy: 0.9358WARNING:tensorflow:Early stopping conditioned on metric `val_loss` which is not available. Available metrics are: loss,accuracy\n",
      "8/8 [==============================] - 4s 464ms/step - loss: 0.2232 - accuracy: 0.9358\n",
      "Epoch 9/60\n",
      "8/8 [==============================] - ETA: 0s - loss: 0.1727 - accuracy: 0.9489WARNING:tensorflow:Early stopping conditioned on metric `val_loss` which is not available. Available metrics are: loss,accuracy\n",
      "8/8 [==============================] - 4s 477ms/step - loss: 0.1727 - accuracy: 0.9489\n",
      "Epoch 10/60\n",
      "8/8 [==============================] - ETA: 0s - loss: 0.1436 - accuracy: 0.9574WARNING:tensorflow:Early stopping conditioned on metric `val_loss` which is not available. Available metrics are: loss,accuracy\n",
      "8/8 [==============================] - 3s 422ms/step - loss: 0.1436 - accuracy: 0.9574\n",
      "Epoch 11/60\n",
      "8/8 [==============================] - ETA: 0s - loss: 0.1208 - accuracy: 0.9631WARNING:tensorflow:Early stopping conditioned on metric `val_loss` which is not available. Available metrics are: loss,accuracy\n",
      "8/8 [==============================] - 4s 449ms/step - loss: 0.1208 - accuracy: 0.9631\n",
      "Epoch 12/60\n",
      "8/8 [==============================] - ETA: 0s - loss: 0.1073 - accuracy: 0.9676WARNING:tensorflow:Early stopping conditioned on metric `val_loss` which is not available. Available metrics are: loss,accuracy\n",
      "8/8 [==============================] - 4s 523ms/step - loss: 0.1073 - accuracy: 0.9676\n",
      "Epoch 13/60\n",
      "8/8 [==============================] - ETA: 0s - loss: 0.1025 - accuracy: 0.9688WARNING:tensorflow:Early stopping conditioned on metric `val_loss` which is not available. Available metrics are: loss,accuracy\n",
      "8/8 [==============================] - 4s 447ms/step - loss: 0.1025 - accuracy: 0.9688\n",
      "Epoch 14/60\n",
      "8/8 [==============================] - ETA: 0s - loss: 0.0904 - accuracy: 0.9720WARNING:tensorflow:Early stopping conditioned on metric `val_loss` which is not available. Available metrics are: loss,accuracy\n",
      "8/8 [==============================] - 4s 449ms/step - loss: 0.0904 - accuracy: 0.9720\n",
      "Epoch 15/60\n",
      "8/8 [==============================] - ETA: 0s - loss: 0.0815 - accuracy: 0.9751WARNING:tensorflow:Early stopping conditioned on metric `val_loss` which is not available. Available metrics are: loss,accuracy\n",
      "8/8 [==============================] - 4s 466ms/step - loss: 0.0815 - accuracy: 0.9751\n",
      "Epoch 16/60\n",
      "8/8 [==============================] - ETA: 0s - loss: 0.0739 - accuracy: 0.9771WARNING:tensorflow:Early stopping conditioned on metric `val_loss` which is not available. Available metrics are: loss,accuracy\n",
      "8/8 [==============================] - 3s 427ms/step - loss: 0.0739 - accuracy: 0.9771\n",
      "Epoch 17/60\n",
      "8/8 [==============================] - ETA: 0s - loss: 0.0685 - accuracy: 0.9793WARNING:tensorflow:Early stopping conditioned on metric `val_loss` which is not available. Available metrics are: loss,accuracy\n",
      "8/8 [==============================] - 4s 512ms/step - loss: 0.0685 - accuracy: 0.9793\n",
      "Epoch 18/60\n",
      "8/8 [==============================] - ETA: 0s - loss: 0.0642 - accuracy: 0.9800WARNING:tensorflow:Early stopping conditioned on metric `val_loss` which is not available. Available metrics are: loss,accuracy\n",
      "8/8 [==============================] - 3s 429ms/step - loss: 0.0642 - accuracy: 0.9800\n",
      "Epoch 19/60\n",
      "8/8 [==============================] - ETA: 0s - loss: 0.0580 - accuracy: 0.9821WARNING:tensorflow:Early stopping conditioned on metric `val_loss` which is not available. Available metrics are: loss,accuracy\n",
      "8/8 [==============================] - 3s 431ms/step - loss: 0.0580 - accuracy: 0.9821\n",
      "Epoch 20/60\n",
      "8/8 [==============================] - ETA: 0s - loss: 0.0590 - accuracy: 0.9811WARNING:tensorflow:Early stopping conditioned on metric `val_loss` which is not available. Available metrics are: loss,accuracy\n",
      "8/8 [==============================] - 4s 473ms/step - loss: 0.0590 - accuracy: 0.9811\n",
      "Epoch 21/60\n",
      "8/8 [==============================] - ETA: 0s - loss: 0.0566 - accuracy: 0.9816WARNING:tensorflow:Early stopping conditioned on metric `val_loss` which is not available. Available metrics are: loss,accuracy\n",
      "8/8 [==============================] - 4s 468ms/step - loss: 0.0566 - accuracy: 0.9816\n",
      "Epoch 22/60\n",
      "8/8 [==============================] - ETA: 0s - loss: 0.0501 - accuracy: 0.9845WARNING:tensorflow:Early stopping conditioned on metric `val_loss` which is not available. Available metrics are: loss,accuracy\n",
      "8/8 [==============================] - 3s 410ms/step - loss: 0.0501 - accuracy: 0.9845\n",
      "Epoch 23/60\n",
      "8/8 [==============================] - ETA: 0s - loss: 0.0475 - accuracy: 0.9850WARNING:tensorflow:Early stopping conditioned on metric `val_loss` which is not available. Available metrics are: loss,accuracy\n",
      "8/8 [==============================] - 3s 409ms/step - loss: 0.0475 - accuracy: 0.9850\n",
      "Epoch 24/60\n",
      "8/8 [==============================] - ETA: 0s - loss: 0.0476 - accuracy: 0.9851WARNING:tensorflow:Early stopping conditioned on metric `val_loss` which is not available. Available metrics are: loss,accuracy\n",
      "8/8 [==============================] - 4s 447ms/step - loss: 0.0476 - accuracy: 0.9851\n",
      "Epoch 25/60\n",
      "8/8 [==============================] - ETA: 0s - loss: 0.0433 - accuracy: 0.9867WARNING:tensorflow:Early stopping conditioned on metric `val_loss` which is not available. Available metrics are: loss,accuracy\n",
      "8/8 [==============================] - 3s 425ms/step - loss: 0.0433 - accuracy: 0.9867\n",
      "Epoch 26/60\n",
      "8/8 [==============================] - ETA: 0s - loss: 0.0388 - accuracy: 0.9880WARNING:tensorflow:Early stopping conditioned on metric `val_loss` which is not available. Available metrics are: loss,accuracy\n",
      "8/8 [==============================] - 3s 394ms/step - loss: 0.0388 - accuracy: 0.9880\n",
      "Epoch 27/60\n",
      "8/8 [==============================] - ETA: 0s - loss: 0.0383 - accuracy: 0.9880WARNING:tensorflow:Early stopping conditioned on metric `val_loss` which is not available. Available metrics are: loss,accuracy\n"
     ]
    },
    {
     "name": "stdout",
     "output_type": "stream",
     "text": [
      "8/8 [==============================] - 3s 428ms/step - loss: 0.0383 - accuracy: 0.9880\n",
      "Epoch 28/60\n",
      "8/8 [==============================] - ETA: 0s - loss: 0.0355 - accuracy: 0.9893WARNING:tensorflow:Early stopping conditioned on metric `val_loss` which is not available. Available metrics are: loss,accuracy\n",
      "8/8 [==============================] - 3s 403ms/step - loss: 0.0355 - accuracy: 0.9893\n",
      "Epoch 29/60\n",
      "8/8 [==============================] - ETA: 0s - loss: 0.0349 - accuracy: 0.9890WARNING:tensorflow:Early stopping conditioned on metric `val_loss` which is not available. Available metrics are: loss,accuracy\n",
      "8/8 [==============================] - 4s 461ms/step - loss: 0.0349 - accuracy: 0.9890\n",
      "Epoch 30/60\n",
      "8/8 [==============================] - 4s 472ms/step - loss: 0.0343 - accuracy: 0.9894 - val_loss: 0.0957 - val_accuracy: 0.9746\n",
      "Epoch 31/60\n",
      "8/8 [==============================] - ETA: 0s - loss: 0.0347 - accuracy: 0.9890WARNING:tensorflow:Early stopping conditioned on metric `val_loss` which is not available. Available metrics are: loss,accuracy\n",
      "8/8 [==============================] - 3s 429ms/step - loss: 0.0347 - accuracy: 0.9890\n",
      "Epoch 32/60\n",
      "8/8 [==============================] - ETA: 0s - loss: 0.0310 - accuracy: 0.9902WARNING:tensorflow:Early stopping conditioned on metric `val_loss` which is not available. Available metrics are: loss,accuracy\n",
      "8/8 [==============================] - 4s 459ms/step - loss: 0.0310 - accuracy: 0.9902\n",
      "Epoch 33/60\n",
      "8/8 [==============================] - ETA: 0s - loss: 0.0276 - accuracy: 0.9914WARNING:tensorflow:Early stopping conditioned on metric `val_loss` which is not available. Available metrics are: loss,accuracy\n",
      "8/8 [==============================] - 4s 497ms/step - loss: 0.0276 - accuracy: 0.9914\n",
      "Epoch 34/60\n",
      "8/8 [==============================] - ETA: 0s - loss: 0.0258 - accuracy: 0.9918WARNING:tensorflow:Early stopping conditioned on metric `val_loss` which is not available. Available metrics are: loss,accuracy\n",
      "8/8 [==============================] - 3s 409ms/step - loss: 0.0258 - accuracy: 0.9918\n",
      "Epoch 35/60\n",
      "8/8 [==============================] - ETA: 0s - loss: 0.0252 - accuracy: 0.9919WARNING:tensorflow:Early stopping conditioned on metric `val_loss` which is not available. Available metrics are: loss,accuracy\n",
      "8/8 [==============================] - 3s 423ms/step - loss: 0.0252 - accuracy: 0.9919\n",
      "Epoch 36/60\n",
      "8/8 [==============================] - ETA: 0s - loss: 0.0224 - accuracy: 0.9926WARNING:tensorflow:Early stopping conditioned on metric `val_loss` which is not available. Available metrics are: loss,accuracy\n",
      "8/8 [==============================] - 3s 419ms/step - loss: 0.0224 - accuracy: 0.9926\n",
      "Epoch 37/60\n",
      "8/8 [==============================] - ETA: 0s - loss: 0.0201 - accuracy: 0.9938WARNING:tensorflow:Early stopping conditioned on metric `val_loss` which is not available. Available metrics are: loss,accuracy\n",
      "8/8 [==============================] - 4s 443ms/step - loss: 0.0201 - accuracy: 0.9938\n",
      "Epoch 38/60\n",
      "8/8 [==============================] - ETA: 0s - loss: 0.0192 - accuracy: 0.9943WARNING:tensorflow:Early stopping conditioned on metric `val_loss` which is not available. Available metrics are: loss,accuracy\n",
      "8/8 [==============================] - 3s 428ms/step - loss: 0.0192 - accuracy: 0.9943\n",
      "Epoch 39/60\n",
      "8/8 [==============================] - ETA: 0s - loss: 0.0198 - accuracy: 0.9937WARNING:tensorflow:Early stopping conditioned on metric `val_loss` which is not available. Available metrics are: loss,accuracy\n",
      "8/8 [==============================] - 4s 496ms/step - loss: 0.0198 - accuracy: 0.9937\n",
      "Epoch 40/60\n",
      "8/8 [==============================] - ETA: 0s - loss: 0.0184 - accuracy: 0.9942WARNING:tensorflow:Early stopping conditioned on metric `val_loss` which is not available. Available metrics are: loss,accuracy\n",
      "8/8 [==============================] - 4s 443ms/step - loss: 0.0184 - accuracy: 0.9942\n",
      "Epoch 41/60\n",
      "8/8 [==============================] - ETA: 0s - loss: 0.0181 - accuracy: 0.9943WARNING:tensorflow:Early stopping conditioned on metric `val_loss` which is not available. Available metrics are: loss,accuracy\n",
      "8/8 [==============================] - 4s 479ms/step - loss: 0.0181 - accuracy: 0.9943\n",
      "Epoch 42/60\n",
      "8/8 [==============================] - ETA: 0s - loss: 0.0186 - accuracy: 0.9941WARNING:tensorflow:Early stopping conditioned on metric `val_loss` which is not available. Available metrics are: loss,accuracy\n",
      "8/8 [==============================] - 3s 423ms/step - loss: 0.0186 - accuracy: 0.9941\n",
      "Epoch 43/60\n",
      "8/8 [==============================] - ETA: 0s - loss: 0.0169 - accuracy: 0.9947WARNING:tensorflow:Early stopping conditioned on metric `val_loss` which is not available. Available metrics are: loss,accuracy\n",
      "8/8 [==============================] - 4s 449ms/step - loss: 0.0169 - accuracy: 0.9947\n",
      "Epoch 44/60\n",
      "8/8 [==============================] - ETA: 0s - loss: 0.0146 - accuracy: 0.9958WARNING:tensorflow:Early stopping conditioned on metric `val_loss` which is not available. Available metrics are: loss,accuracy\n",
      "8/8 [==============================] - 4s 443ms/step - loss: 0.0146 - accuracy: 0.9958\n",
      "Epoch 45/60\n",
      "8/8 [==============================] - ETA: 0s - loss: 0.0139 - accuracy: 0.9958WARNING:tensorflow:Early stopping conditioned on metric `val_loss` which is not available. Available metrics are: loss,accuracy\n",
      "8/8 [==============================] - 4s 448ms/step - loss: 0.0139 - accuracy: 0.9958\n",
      "Epoch 46/60\n",
      "8/8 [==============================] - ETA: 0s - loss: 0.0138 - accuracy: 0.9958WARNING:tensorflow:Early stopping conditioned on metric `val_loss` which is not available. Available metrics are: loss,accuracy\n",
      "8/8 [==============================] - 4s 456ms/step - loss: 0.0138 - accuracy: 0.9958\n",
      "Epoch 47/60\n",
      "8/8 [==============================] - ETA: 0s - loss: 0.0166 - accuracy: 0.9951WARNING:tensorflow:Early stopping conditioned on metric `val_loss` which is not available. Available metrics are: loss,accuracy\n",
      "8/8 [==============================] - 3s 430ms/step - loss: 0.0166 - accuracy: 0.9951\n",
      "Epoch 48/60\n",
      "8/8 [==============================] - ETA: 0s - loss: 0.0165 - accuracy: 0.9944WARNING:tensorflow:Early stopping conditioned on metric `val_loss` which is not available. Available metrics are: loss,accuracy\n",
      "8/8 [==============================] - 4s 452ms/step - loss: 0.0165 - accuracy: 0.9944\n",
      "Epoch 49/60\n",
      "8/8 [==============================] - ETA: 0s - loss: 0.0146 - accuracy: 0.9951WARNING:tensorflow:Early stopping conditioned on metric `val_loss` which is not available. Available metrics are: loss,accuracy\n",
      "8/8 [==============================] - 4s 444ms/step - loss: 0.0146 - accuracy: 0.9951\n",
      "Epoch 50/60\n",
      "8/8 [==============================] - ETA: 0s - loss: 0.0169 - accuracy: 0.9946WARNING:tensorflow:Early stopping conditioned on metric `val_loss` which is not available. Available metrics are: loss,accuracy\n",
      "8/8 [==============================] - 4s 446ms/step - loss: 0.0169 - accuracy: 0.9946\n",
      "Epoch 51/60\n",
      "8/8 [==============================] - ETA: 0s - loss: 0.0143 - accuracy: 0.9951WARNING:tensorflow:Early stopping conditioned on metric `val_loss` which is not available. Available metrics are: loss,accuracy\n",
      "8/8 [==============================] - 3s 426ms/step - loss: 0.0143 - accuracy: 0.9951\n",
      "Epoch 52/60\n",
      "8/8 [==============================] - ETA: 0s - loss: 0.0132 - accuracy: 0.9957WARNING:tensorflow:Early stopping conditioned on metric `val_loss` which is not available. Available metrics are: loss,accuracy\n",
      "8/8 [==============================] - 3s 429ms/step - loss: 0.0132 - accuracy: 0.9957\n",
      "Epoch 53/60\n",
      "8/8 [==============================] - ETA: 0s - loss: 0.0105 - accuracy: 0.9969WARNING:tensorflow:Early stopping conditioned on metric `val_loss` which is not available. Available metrics are: loss,accuracy\n",
      "8/8 [==============================] - 3s 425ms/step - loss: 0.0105 - accuracy: 0.9969\n",
      "Epoch 54/60\n",
      "8/8 [==============================] - ETA: 0s - loss: 0.0096 - accuracy: 0.9972WARNING:tensorflow:Early stopping conditioned on metric `val_loss` which is not available. Available metrics are: loss,accuracy\n",
      "8/8 [==============================] - 4s 440ms/step - loss: 0.0096 - accuracy: 0.9972\n"
     ]
    },
    {
     "name": "stdout",
     "output_type": "stream",
     "text": [
      "Epoch 55/60\n",
      "8/8 [==============================] - ETA: 0s - loss: 0.0097 - accuracy: 0.9972WARNING:tensorflow:Early stopping conditioned on metric `val_loss` which is not available. Available metrics are: loss,accuracy\n",
      "8/8 [==============================] - 4s 438ms/step - loss: 0.0097 - accuracy: 0.9972\n",
      "Epoch 56/60\n",
      "8/8 [==============================] - ETA: 0s - loss: 0.0077 - accuracy: 0.9980WARNING:tensorflow:Early stopping conditioned on metric `val_loss` which is not available. Available metrics are: loss,accuracy\n",
      "8/8 [==============================] - 4s 439ms/step - loss: 0.0077 - accuracy: 0.9980\n",
      "Epoch 57/60\n",
      "8/8 [==============================] - ETA: 0s - loss: 0.0085 - accuracy: 0.9979WARNING:tensorflow:Early stopping conditioned on metric `val_loss` which is not available. Available metrics are: loss,accuracy\n",
      "8/8 [==============================] - 4s 442ms/step - loss: 0.0085 - accuracy: 0.9979\n",
      "Epoch 58/60\n",
      "8/8 [==============================] - ETA: 0s - loss: 0.0113 - accuracy: 0.9963WARNING:tensorflow:Early stopping conditioned on metric `val_loss` which is not available. Available metrics are: loss,accuracy\n",
      "8/8 [==============================] - 4s 440ms/step - loss: 0.0113 - accuracy: 0.9963\n",
      "Epoch 59/60\n",
      "8/8 [==============================] - ETA: 0s - loss: 0.0093 - accuracy: 0.9974WARNING:tensorflow:Early stopping conditioned on metric `val_loss` which is not available. Available metrics are: loss,accuracy\n",
      "8/8 [==============================] - 3s 417ms/step - loss: 0.0093 - accuracy: 0.9974\n",
      "Epoch 60/60\n",
      "8/8 [==============================] - 4s 449ms/step - loss: 0.0083 - accuracy: 0.9976 - val_loss: 0.0984 - val_accuracy: 0.9792\n"
     ]
    }
   ],
   "source": [
    "early_stopping = callbacks.EarlyStopping(monitor='val_loss', patience=5)\n",
    "\n",
    "model = keras.models.Sequential()\n",
    "model.add(Conv2D(20, input_shape=(img_width, img_height, 1), kernel_size=(5,5),\n",
    "                 strides=(1,1), activation='relu', padding='same',\n",
    "                 kernel_initializer=initializers.RandomNormal(mean=0.0, stddev=0.01)))\n",
    "\n",
    "model.add(MaxPooling2D(pool_size=(2,2), padding='valid', strides=(2,2)))\n",
    "model.add(Flatten())\n",
    "model.add(Dense(units=100, activation='relu', \n",
    "                kernel_initializer=initializers.RandomNormal(mean=0.0, stddev=0.01)))\n",
    "\n",
    "num_classes = 10\n",
    "model.add(Dense(units=num_classes, activation='softmax', \n",
    "                kernel_initializer=initializers.RandomNormal(mean=0.0, stddev=0.01)))\n",
    "\n",
    "# model.summary()\n",
    "model.compile(loss='categorical_crossentropy',\n",
    "              optimizer=keras.optimizers.SGD(0.01, momentum=0.9),\n",
    "#               run_eagerly=True,\n",
    "              metrics=['accuracy'])\n",
    "\n",
    "trained_model= model.fit(x_train, y_train,\n",
    "              batch_size=8192,\n",
    "              epochs=60, verbose=1,\n",
    "              validation_data=(x_test, y_test),\n",
    "              shuffle=True, validation_freq=30,\n",
    "              callbacks = [early_stopping])"
   ]
  },
  {
   "cell_type": "code",
   "execution_count": 6,
   "metadata": {},
   "outputs": [
    {
     "name": "stdout",
     "output_type": "stream",
     "text": [
      "313/313 [==============================] - 11s 37ms/step - loss: 0.0984 - accuracy: 0.9792\n"
     ]
    }
   ],
   "source": [
    "score = model.evaluate(x_test, y_test, verbose=1)"
   ]
  },
  {
   "cell_type": "code",
   "execution_count": 7,
   "metadata": {},
   "outputs": [
    {
     "data": {
      "text/plain": [
       "<matplotlib.legend.Legend at 0x7fca0465e820>"
      ]
     },
     "execution_count": 7,
     "metadata": {},
     "output_type": "execute_result"
    },
    {
     "data": {
      "image/png": "[encoded data removed]",
      "text/plain": [
       "<Figure size 432x288 with 1 Axes>"
      ]
     },
     "metadata": {
      "needs_background": "light"
     },
     "output_type": "display_data"
    }
   ],
   "source": [
    "plt.plot(trained_model.history['loss'])\n",
    "plt.plot(trained_model.history['val_loss'])\n",
    "plt.legend(['training_loss', 'validation_loss'])"
   ]
  },
  {
   "cell_type": "markdown",
   "metadata": {},
   "source": [
    "### Define the convolutional network No. 2"
   ]
  },
  {
   "cell_type": "code",
   "execution_count": 8,
   "metadata": {},
   "outputs": [
    {
     "name": "stdout",
     "output_type": "stream",
     "text": [
      "Epoch 1/30\n",
      "8/8 [==============================] - ETA: 0s - loss: 1.4982 - accuracy: 0.6113WARNING:tensorflow:Early stopping conditioned on metric `val_loss` which is not available. Available metrics are: loss,accuracy\n",
      "8/8 [==============================] - 12s 1s/step - loss: 1.4982 - accuracy: 0.6113\n",
      "Epoch 2/30\n",
      "8/8 [==============================] - ETA: 0s - loss: 0.3847 - accuracy: 0.9038WARNING:tensorflow:Early stopping conditioned on metric `val_loss` which is not available. Available metrics are: loss,accuracy\n",
      "8/8 [==============================] - 13s 2s/step - loss: 0.3847 - accuracy: 0.9038\n",
      "Epoch 3/30\n",
      "8/8 [==============================] - ETA: 0s - loss: 0.2146 - accuracy: 0.9388WARNING:tensorflow:Early stopping conditioned on metric `val_loss` which is not available. Available metrics are: loss,accuracy\n",
      "8/8 [==============================] - 12s 2s/step - loss: 0.2146 - accuracy: 0.9388\n",
      "Epoch 4/30\n",
      "8/8 [==============================] - ETA: 0s - loss: 0.1590 - accuracy: 0.9543WARNING:tensorflow:Early stopping conditioned on metric `val_loss` which is not available. Available metrics are: loss,accuracy\n",
      "8/8 [==============================] - 13s 2s/step - loss: 0.1590 - accuracy: 0.9543\n",
      "Epoch 5/30\n",
      "8/8 [==============================] - ETA: 0s - loss: 0.1292 - accuracy: 0.9635WARNING:tensorflow:Early stopping conditioned on metric `val_loss` which is not available. Available metrics are: loss,accuracy\n",
      "8/8 [==============================] - 12s 2s/step - loss: 0.1292 - accuracy: 0.9635\n",
      "Epoch 6/30\n",
      "8/8 [==============================] - ETA: 0s - loss: 0.1110 - accuracy: 0.9686WARNING:tensorflow:Early stopping conditioned on metric `val_loss` which is not available. Available metrics are: loss,accuracy\n",
      "8/8 [==============================] - 12s 2s/step - loss: 0.1110 - accuracy: 0.9686\n",
      "Epoch 7/30\n",
      "8/8 [==============================] - ETA: 0s - loss: 0.0982 - accuracy: 0.9722WARNING:tensorflow:Early stopping conditioned on metric `val_loss` which is not available. Available metrics are: loss,accuracy\n",
      "8/8 [==============================] - 13s 2s/step - loss: 0.0982 - accuracy: 0.9722\n",
      "Epoch 8/30\n",
      "8/8 [==============================] - ETA: 0s - loss: 0.0892 - accuracy: 0.9754WARNING:tensorflow:Early stopping conditioned on metric `val_loss` which is not available. Available metrics are: loss,accuracy\n",
      "8/8 [==============================] - 13s 2s/step - loss: 0.0892 - accuracy: 0.9754\n",
      "Epoch 9/30\n",
      "8/8 [==============================] - ETA: 0s - loss: 0.0830 - accuracy: 0.9770WARNING:tensorflow:Early stopping conditioned on metric `val_loss` which is not available. Available metrics are: loss,accuracy\n",
      "8/8 [==============================] - 12s 2s/step - loss: 0.0830 - accuracy: 0.9770\n",
      "Epoch 10/30\n",
      "8/8 [==============================] - ETA: 0s - loss: 0.0776 - accuracy: 0.9787WARNING:tensorflow:Early stopping conditioned on metric `val_loss` which is not available. Available metrics are: loss,accuracy\n",
      "8/8 [==============================] - 13s 2s/step - loss: 0.0776 - accuracy: 0.9787\n",
      "Epoch 11/30\n",
      "8/8 [==============================] - ETA: 0s - loss: 0.0737 - accuracy: 0.9793WARNING:tensorflow:Early stopping conditioned on metric `val_loss` which is not available. Available metrics are: loss,accuracy\n",
      "8/8 [==============================] - 13s 2s/step - loss: 0.0737 - accuracy: 0.9793\n",
      "Epoch 12/30\n",
      "8/8 [==============================] - ETA: 0s - loss: 0.0708 - accuracy: 0.9804WARNING:tensorflow:Early stopping conditioned on metric `val_loss` which is not available. Available metrics are: loss,accuracy\n",
      "8/8 [==============================] - 12s 2s/step - loss: 0.0708 - accuracy: 0.9804\n",
      "Epoch 13/30\n",
      "8/8 [==============================] - ETA: 0s - loss: 0.0679 - accuracy: 0.9812WARNING:tensorflow:Early stopping conditioned on metric `val_loss` which is not available. Available metrics are: loss,accuracy\n",
      "8/8 [==============================] - 12s 2s/step - loss: 0.0679 - accuracy: 0.9812\n",
      "Epoch 14/30\n",
      "8/8 [==============================] - ETA: 0s - loss: 0.0654 - accuracy: 0.9818WARNING:tensorflow:Early stopping conditioned on metric `val_loss` which is not available. Available metrics are: loss,accuracy\n",
      "8/8 [==============================] - 13s 2s/step - loss: 0.0654 - accuracy: 0.9818\n",
      "Epoch 15/30\n",
      "8/8 [==============================] - ETA: 0s - loss: 0.0633 - accuracy: 0.9824WARNING:tensorflow:Early stopping conditioned on metric `val_loss` which is not available. Available metrics are: loss,accuracy\n",
      "8/8 [==============================] - 13s 2s/step - loss: 0.0633 - accuracy: 0.9824\n",
      "Epoch 16/30\n",
      "8/8 [==============================] - ETA: 0s - loss: 0.0600 - accuracy: 0.9836WARNING:tensorflow:Early stopping conditioned on metric `val_loss` which is not available. Available metrics are: loss,accuracy\n",
      "8/8 [==============================] - 12s 2s/step - loss: 0.0600 - accuracy: 0.9836\n",
      "Epoch 17/30\n",
      "8/8 [==============================] - ETA: 0s - loss: 0.0581 - accuracy: 0.9842WARNING:tensorflow:Early stopping conditioned on metric `val_loss` which is not available. Available metrics are: loss,accuracy\n",
      "8/8 [==============================] - 13s 2s/step - loss: 0.0581 - accuracy: 0.9842\n",
      "Epoch 18/30\n",
      "8/8 [==============================] - ETA: 0s - loss: 0.0560 - accuracy: 0.9847WARNING:tensorflow:Early stopping conditioned on metric `val_loss` which is not available. Available metrics are: loss,accuracy\n",
      "8/8 [==============================] - 13s 2s/step - loss: 0.0560 - accuracy: 0.9847\n",
      "Epoch 19/30\n",
      "8/8 [==============================] - ETA: 0s - loss: 0.0542 - accuracy: 0.9853WARNING:tensorflow:Early stopping conditioned on metric `val_loss` which is not available. Available metrics are: loss,accuracy\n",
      "8/8 [==============================] - 12s 2s/step - loss: 0.0542 - accuracy: 0.9853\n",
      "Epoch 20/30\n",
      "8/8 [==============================] - ETA: 0s - loss: 0.0530 - accuracy: 0.9857WARNING:tensorflow:Early stopping conditioned on metric `val_loss` which is not available. Available metrics are: loss,accuracy\n",
      "8/8 [==============================] - 13s 2s/step - loss: 0.0530 - accuracy: 0.9857\n",
      "Epoch 21/30\n",
      "8/8 [==============================] - ETA: 0s - loss: 0.0515 - accuracy: 0.9859WARNING:tensorflow:Early stopping conditioned on metric `val_loss` which is not available. Available metrics are: loss,accuracy\n",
      "8/8 [==============================] - 13s 2s/step - loss: 0.0515 - accuracy: 0.9859\n",
      "Epoch 22/30\n",
      "8/8 [==============================] - ETA: 0s - loss: 0.0509 - accuracy: 0.9858WARNING:tensorflow:Early stopping conditioned on metric `val_loss` which is not available. Available metrics are: loss,accuracy\n",
      "8/8 [==============================] - 13s 2s/step - loss: 0.0509 - accuracy: 0.9858\n",
      "Epoch 23/30\n",
      "8/8 [==============================] - ETA: 0s - loss: 0.0492 - accuracy: 0.9868WARNING:tensorflow:Early stopping conditioned on metric `val_loss` which is not available. Available metrics are: loss,accuracy\n",
      "8/8 [==============================] - 12s 2s/step - loss: 0.0492 - accuracy: 0.9868\n",
      "Epoch 24/30\n",
      "8/8 [==============================] - ETA: 0s - loss: 0.0486 - accuracy: 0.9866WARNING:tensorflow:Early stopping conditioned on metric `val_loss` which is not available. Available metrics are: loss,accuracy\n",
      "8/8 [==============================] - 12s 2s/step - loss: 0.0486 - accuracy: 0.9866\n",
      "Epoch 25/30\n",
      "8/8 [==============================] - ETA: 0s - loss: 0.0481 - accuracy: 0.9869WARNING:tensorflow:Early stopping conditioned on metric `val_loss` which is not available. Available metrics are: loss,accuracy\n",
      "8/8 [==============================] - 12s 2s/step - loss: 0.0481 - accuracy: 0.9869\n",
      "Epoch 26/30\n",
      "8/8 [==============================] - ETA: 0s - loss: 0.0472 - accuracy: 0.9872WARNING:tensorflow:Early stopping conditioned on metric `val_loss` which is not available. Available metrics are: loss,accuracy\n",
      "8/8 [==============================] - 13s 2s/step - loss: 0.0472 - accuracy: 0.9872\n",
      "Epoch 27/30\n",
      "8/8 [==============================] - ETA: 0s - loss: 0.0462 - accuracy: 0.9872WARNING:tensorflow:Early stopping conditioned on metric `val_loss` which is not available. Available metrics are: loss,accuracy\n",
      "8/8 [==============================] - 13s 2s/step - loss: 0.0462 - accuracy: 0.9872\n"
     ]
    },
    {
     "name": "stdout",
     "output_type": "stream",
     "text": [
      "Epoch 28/30\n",
      "8/8 [==============================] - ETA: 0s - loss: 0.0463 - accuracy: 0.9872WARNING:tensorflow:Early stopping conditioned on metric `val_loss` which is not available. Available metrics are: loss,accuracy\n",
      "8/8 [==============================] - 12s 2s/step - loss: 0.0463 - accuracy: 0.9872\n",
      "Epoch 29/30\n",
      "8/8 [==============================] - ETA: 0s - loss: 0.0456 - accuracy: 0.9874WARNING:tensorflow:Early stopping conditioned on metric `val_loss` which is not available. Available metrics are: loss,accuracy\n",
      "8/8 [==============================] - 13s 2s/step - loss: 0.0456 - accuracy: 0.9874\n",
      "Epoch 30/30\n",
      "8/8 [==============================] - 13s 2s/step - loss: 0.0434 - accuracy: 0.9882 - val_loss: 0.3372 - val_accuracy: 0.9786\n"
     ]
    }
   ],
   "source": [
    "early_stopping = callbacks.EarlyStopping(monitor='val_loss', patience=5)\n",
    "\n",
    "model2 = keras.models.Sequential()\n",
    "model2.add(Conv2D(20, input_shape=(img_width, img_height, 1),\n",
    "                 kernel_size=(3,3), strides=(1,1), padding='same', \n",
    "                 kernel_initializer=initializers.RandomNormal(mean=0.0, stddev=0.01)))\n",
    "model2.add(keras.layers.BatchNormalization())\n",
    "model2.add(keras.layers.Activation(activations.relu))\n",
    "model2.add(MaxPooling2D(pool_size=(2,2), padding='valid', strides=(2,2)))\n",
    "model2.add(Conv2D(30,\n",
    "                 kernel_size=(3,3), strides=(1,1), padding='same', \n",
    "                 kernel_initializer=initializers.RandomNormal(mean=0.0, stddev=0.01)))\n",
    "model2.add(keras.layers.BatchNormalization())\n",
    "model2.add(keras.layers.Activation(activations.relu))\n",
    "model2.add(MaxPooling2D(pool_size=(2,2), padding='valid', strides=(2,2)))\n",
    "model2.add(Conv2D(50,\n",
    "                 kernel_size=(3,3), strides=(1,1), padding='same', \n",
    "                 kernel_initializer=initializers.RandomNormal(mean=0.0, stddev=0.01)))\n",
    "model2.add(keras.layers.BatchNormalization())\n",
    "model2.add(keras.layers.Activation(activations.relu))\n",
    "\n",
    "model2.add(Flatten())\n",
    "num_classes = 10\n",
    "model2.add(Dense(units=num_classes, activation='softmax', \n",
    "                kernel_initializer=initializers.RandomNormal(mean=0.0, stddev=0.01)))\n",
    "\n",
    "# model.summary()\n",
    "model2.compile(loss='categorical_crossentropy',\n",
    "              optimizer=keras.optimizers.SGD(0.01, momentum=0.9),\n",
    "#               run_eagerly=True,\n",
    "              metrics=['accuracy'])\n",
    "\n",
    "trained_model2= model2.fit(x_train, y_train,\n",
    "              batch_size=8192,\n",
    "              epochs=30, verbose=1,\n",
    "              validation_data=(x_test, y_test),\n",
    "              shuffle=True, validation_freq=30,\n",
    "              callbacks = [early_stopping])"
   ]
  },
  {
   "cell_type": "code",
   "execution_count": 9,
   "metadata": {},
   "outputs": [
    {
     "name": "stdout",
     "output_type": "stream",
     "text": [
      "313/313 - 11s - loss: 0.0984 - accuracy: 0.9792\n"
     ]
    }
   ],
   "source": [
    "score = model.evaluate(x_test, y_test, verbose=2)"
   ]
  },
  {
   "cell_type": "code",
   "execution_count": 11,
   "metadata": {},
   "outputs": [
    {
     "data": {
      "text/plain": [
       "<matplotlib.legend.Legend at 0x7fc9a03dce50>"
      ]
     },
     "execution_count": 11,
     "metadata": {},
     "output_type": "execute_result"
    },
    {
     "data": {
      "image/png": "[encoded data removed]",
      "text/plain": [
       "<Figure size 432x288 with 1 Axes>"
      ]
     },
     "metadata": {
      "needs_background": "light"
     },
     "output_type": "display_data"
    }
   ],
   "source": [
    "plt.plot(trained_model2.history['loss'])\n",
    "plt.plot(trained_model2.history['val_loss'])\n",
    "plt.legend(['training_loss', 'validation_loss'])"
   ]
  }
 ],
 "metadata": {
  "kernelspec": {
   "name": "pycharm-2a61c0f7",
   "language": "python",
   "display_name": "PyCharm (ConvolutionalNN)"
  },
  "language_info": {
   "codemirror_mode": {
    "name": "ipython",
    "version": 3
   },
   "file_extension": ".py",
   "mimetype": "text/x-python",
   "name": "python",
   "nbconvert_exporter": "python",
   "pygments_lexer": "ipython3",
   "version": "3.8.5"
  }
 },
 "nbformat": 4,
 "nbformat_minor": 4
}