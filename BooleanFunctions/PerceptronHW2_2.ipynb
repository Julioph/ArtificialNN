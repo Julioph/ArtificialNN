{
 "cells": [
  {
   "cell_type": "code",
   "execution_count": 1,
   "metadata": {},
   "outputs": [],
   "source": [
    "import numpy\n",
    "import matplotlib.pyplot as plt"
   ]
  },
  {
   "cell_type": "code",
   "execution_count": 2,
   "metadata": {},
   "outputs": [],
   "source": [
    "target_A = [1, 1, 1, 1, 1, -1, -1, 1, 1, 1, -1, -1, 1, 1, -1, 1]\n",
    "target_B = [1, 1, -1, 1, -1, -1, 1, -1, 1, -1, 1, 1, -1, 1, 1, -1]\n",
    "target_C = [-1, 1, -1, -1, -1, -1, -1, 1, -1, -1, -1, -1, -1, 1, -1, -1]\n",
    "target_D = [-1, -1, -1, 1, -1, 1, 1, 1, 1, 1, 1, -1, 1, -1, -1, -1]\n",
    "target_E = [-1, 1, -1, -1, -1, 1, 1, 1, -1, 1, 1, 1, 1, 1, 1, 1]\n",
    "target_F = [1, -1, 1, 1, -1, 1, 1, 1, 1, -1, -1, 1, -1, 1, 1, -1]"
   ]
  },
  {
   "cell_type": "code",
   "execution_count": 3,
   "metadata": {},
   "outputs": [],
   "source": [
    "class Perceptron:\n",
    "    \n",
    "    def __init__(self, n_iter):\n",
    "        self.n_iter = n_iter\n",
    "        self.eta = 0.02\n",
    "        \n",
    "    def predict(self, X):\n",
    "        b = 0.5*(numpy.dot(self.W, X) - self.threshold)\n",
    "        return numpy.tanh(b[0])\n",
    "        \n",
    "    def train(self, X, T):\n",
    "        rng = numpy.random.default_rng()\n",
    "        \n",
    "        #4 random numbers between [-0.2, 0.2]\n",
    "        self.W = (0.2 - (-0.2)) * numpy.random.default_rng().random(4) + (-0.2)\n",
    "        self.threshold = 2 * numpy.random.default_rng().random(1) -1\n",
    "        errors = []\n",
    "        \n",
    "        for i in range(self.n_iter):\n",
    "\n",
    "            select = rng.integers(X.shape[0])\n",
    "            xi = X[select]\n",
    "            ti = T[select]\n",
    "                \n",
    "            bi = 0.5 * (numpy.dot(self.W,xi) - self.threshold)\n",
    "            oi = numpy.tanh(bi[0])\n",
    "\n",
    "            mean_sq_err = 0.5*(oi - ti)**2\n",
    "            errors.append(mean_sq_err)\n",
    "\n",
    "                                        \n",
    "            dw = self.eta * (ti - oi) * (1 - (oi**2)) * (xi/2)\n",
    "            self.W = self.W + dw\n",
    "\n",
    "\n",
    "            d_theta = self.eta * (ti - oi) * (1 - oi**2) * (-0.5)\n",
    "            self.threshold = self.threshold + d_theta\n",
    "                \n",
    "        self.history = numpy.array(errors)\n",
    "        return self.W, self.history\n",
    "        "
   ]
  },
  {
   "cell_type": "code",
   "execution_count": 4,
   "metadata": {},
   "outputs": [],
   "source": [
    "data = numpy.genfromtxt(\"input_data_numeric.csv\", delimiter=\",\")\n",
    "data = data[:,1:]"
   ]
  },
  {
   "cell_type": "code",
   "execution_count": 5,
   "metadata": {},
   "outputs": [],
   "source": [
    "per = Perceptron(1*10**5)"
   ]
  },
  {
   "cell_type": "code",
   "execution_count": 6,
   "metadata": {
    "scrolled": false
   },
   "outputs": [
    {
     "data": {
      "text/plain": [
       "(array([-2.44855107, -5.16531108,  7.74559577, -5.17274176]),\n",
       " array([8.06849451e-01, 3.09463811e-01, 1.00323035e+00, ...,\n",
       "        6.23107820e-03, 9.51256688e-03, 7.20712533e-12]))"
      ]
     },
     "execution_count": 6,
     "metadata": {},
     "output_type": "execute_result"
    }
   ],
   "source": [
    "per.train(data, target_B)"
   ]
  },
  {
   "cell_type": "code",
   "execution_count": 7,
   "metadata": {},
   "outputs": [
    {
     "name": "stdout",
     "output_type": "stream",
     "text": [
      "0.9988961634695313 1\n",
      "0.862295668591692 1\n",
      "-0.8884526222587006 -1\n",
      "0.999999999793269 1\n",
      "-0.8900076152895816 -1\n",
      "-0.9991181244771254 -1\n",
      "0.9999999723184789 1\n",
      "-0.9991311277925553 -1\n",
      "0.9999936622319546 1\n",
      "-0.9999962033895837 -1\n",
      "0.9999935673410307 1\n",
      "0.9991517225616515 1\n",
      "-0.9999999716461254 -1\n",
      "0.9991390273294382 1\n",
      "0.820492340254675 1\n",
      "-0.8591864712989842 -1\n"
     ]
    }
   ],
   "source": [
    "for a,b in zip(data, target_B):\n",
    "    print(per.predict(a), b)"
   ]
  },
  {
   "cell_type": "code",
   "execution_count": 8,
   "metadata": {},
   "outputs": [
    {
     "name": "stdout",
     "output_type": "stream",
     "text": [
      "Weights: [-2.44855107 -5.16531108  7.74559577 -5.17274176]\n",
      "Thresholds: [-2.46055038]\n"
     ]
    }
   ],
   "source": [
    "print(f\"Weights: {per.W}\\nThresholds: {per.threshold}\")"
   ]
  },
  {
   "cell_type": "code",
   "execution_count": 9,
   "metadata": {},
   "outputs": [
    {
     "data": {
      "text/plain": [
       "[<matplotlib.lines.Line2D at 0x1c871e5ecd0>]"
      ]
     },
     "execution_count": 9,
     "metadata": {},
     "output_type": "execute_result"
    },
    {
     "data": {
      "image/png": "[encoded data removed]",
      "text/plain": [
       "<Figure size 432x288 with 1 Axes>"
      ]
     },
     "metadata": {
      "needs_background": "light"
     },
     "output_type": "display_data"
    }
   ],
   "source": [
    "plt.plot(per.history)"
   ]
  }
 ],
 "metadata": {
  "kernelspec": {
   "display_name": "Python 3",
   "language": "python",
   "name": "python3"
  },
  "language_info": {
   "codemirror_mode": {
    "name": "ipython",
    "version": 3
   },
   "file_extension": ".py",
   "mimetype": "text/x-python",
   "name": "python",
   "nbconvert_exporter": "python",
   "pygments_lexer": "ipython3",
   "version": "3.8.3"
  }
 },
 "nbformat": 4,
 "nbformat_minor": 4
}
