{
 "cells": [
  {
   "cell_type": "code",
   "execution_count": 1,
   "metadata": {},
   "outputs": [],
   "source": [
    "import numpy"
   ]
  },
  {
   "cell_type": "code",
   "execution_count": 2,
   "metadata": {},
   "outputs": [],
   "source": [
    "train_set = numpy.genfromtxt(\"training_setHW2_4.csv\", delimiter=\",\")\n",
    "validation_set = numpy.genfromtxt(\"validation_setHW2_4.csv\", delimiter=\",\")"
   ]
  },
  {
   "cell_type": "code",
   "execution_count": 3,
   "metadata": {},
   "outputs": [],
   "source": [
    "class Perceptron2:\n",
    "    \n",
    "    def __init__(self, n_iter, eta, M1, M2):\n",
    "        self.n_iter = n_iter\n",
    "        self.eta = eta\n",
    "        self.M1 = M1\n",
    "        self.M2 = M2\n",
    "    \n",
    "    def train(self, X, T):\n",
    "        self.W = {}\n",
    "        self.W[1] = numpy.random.normal(scale=1.2,size=(self.M1, X.shape[1]))\n",
    "        self.W[2] = numpy.random.normal(scale=1.2,size=(self.M2, self.M1))\n",
    "        self.W[3] = numpy.random.normal(scale=1.2,size=(1,self.M2))\n",
    "        \n",
    "        self.thresh = {}\n",
    "        self.thresh[1] = numpy.zeros(shape=(self.M1,1))\n",
    "        self.thresh[2] = numpy.zeros(shape=(self.M2,1))\n",
    "        self.thresh[3] = 0\n",
    "        \n",
    "        self.V = {}\n",
    "        self.delta = {}\n",
    "        for iteration in range(self.n_iter):\n",
    "            selection = numpy.random.randint(X.shape[0])\n",
    "            self.V[0] = X[selection][:,numpy.newaxis]\n",
    "            ti = T[selection]\n",
    "            #FEED-FORWARD:\n",
    "            for l in range(3):\n",
    "                self.V[l+1] = numpy.tanh(numpy.dot(self.W[l+1], self.V[l]) - self.thresh[l+1])\n",
    "            \n",
    "            self.V[3] = self.V[3].item(0)\n",
    "            \n",
    "            #OUTPUT LAYER ERROR:\n",
    "            oi = self.V[list(self.V.keys())[-1]] #Output\n",
    "            self.delta[3] = (ti - oi) * (1-numpy.tanh(oi)**2)\n",
    "            \n",
    "            #BACK-PROPAGATE:\n",
    "            for l in range(3, 1, -1):\n",
    "                g_prime = 1-(self.V[l-1])**2\n",
    "                self.delta[l-1] = numpy.dot(self.W[l].T, self.delta[l])*g_prime\n",
    "\n",
    "            #UPDATE:\n",
    "            for l in range(1,3):\n",
    "                d_weight = self.eta*self.delta[l]*self.V[l-1].T\n",
    "                self.W[l] = self.W[l] + d_weight\n",
    "                \n",
    "                d_theta = self.eta*(self.delta[l])\n",
    "                self.thresh[l] = self.thresh[l] - d_theta\n",
    "                \n",
    "    def predict(self, X):\n",
    "        self.V[0] = X[:,numpy.newaxis]\n",
    "        for l in range(3):\n",
    "            self.V[l+1] = numpy.tanh(numpy.dot(self.W[l+1], self.V[l]) - self.thresh[l+1])\n",
    "        \n",
    "        out = self.V[list(self.V.keys())[-1]].item(0)\n",
    "        \n",
    "        return numpy.select(condlist=[out>=0, out<0], choicelist=[1, -1])"
   ]
  },
  {
   "cell_type": "markdown",
   "metadata": {},
   "source": [
    "Try to get below 12%......"
   ]
  },
  {
   "cell_type": "code",
   "execution_count": 4,
   "metadata": {},
   "outputs": [
    {
     "name": "stdout",
     "output_type": "stream",
     "text": [
      "round 0: percent: 13.38%\n",
      "round 1: percent: 12.28%\n",
      "round 2: percent: 13.10%\n",
      "round 3: percent: 11.98%\n",
      "round 4: percent: 12.82%\n",
      "round 5: percent: 12.12%\n"
     ]
    }
   ],
   "source": [
    "C = []\n",
    "for t in range(6):\n",
    "    per = Perceptron2(200000, 0.005, 36, 16)\n",
    "    per.train(train_set[:,:2], train_set[:,2])\n",
    "    diff = 0\n",
    "    for i in validation_set:\n",
    "        diff += numpy.abs(per.predict(i[:2]) - i[2])\n",
    "    C.append( diff/(2*validation_set.shape[0]) )\n",
    "\n",
    "for n,x in enumerate(C):\n",
    "    print(f\"round {n}: percent: {x:.2%}\")"
   ]
  }
 ],
 "metadata": {
  "kernelspec": {
   "display_name": "Python 3",
   "language": "python",
   "name": "python3"
  },
  "language_info": {
   "codemirror_mode": {
    "name": "ipython",
    "version": 3
   },
   "file_extension": ".py",
   "mimetype": "text/x-python",
   "name": "python",
   "nbconvert_exporter": "python",
   "pygments_lexer": "ipython3",
   "version": "3.8.3"
  }
 },
 "nbformat": 4,
 "nbformat_minor": 4
}
