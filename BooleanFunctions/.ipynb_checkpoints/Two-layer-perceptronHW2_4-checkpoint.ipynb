{
 "cells": [
  {
   "cell_type": "code",
   "execution_count": 1,
   "metadata": {},
   "outputs": [],
   "source": [
    "import numpy"
   ]
  },
  {
   "cell_type": "code",
   "execution_count": 2,
   "metadata": {},
   "outputs": [],
   "source": [
    "train_set = numpy.genfromtxt(\"training_setHW2_4.csv\", delimiter=\",\")\n",
    "validation_set = numpy.genfromtxt(\"validation_setHW2_4.csv\", delimiter=\",\")"
   ]
  },
  {
   "cell_type": "code",
   "execution_count": 45,
   "metadata": {},
   "outputs": [],
   "source": [
    "class Perceptron2:\n",
    "    \n",
    "    def __init__(self, n_iter, M1, M2):\n",
    "        self.n_iter = n_iter\n",
    "        self.eta = 0.01\n",
    "        self.M1 = M1\n",
    "        self.M2 = M2\n",
    "    \n",
    "    def train(self, X, T):\n",
    "        self.W = {}\n",
    "        self.W[1] = numpy.random.normal(loc=0.3, scale=0.8, size=(self.M1, X.shape[1]))\n",
    "        self.W[2] = numpy.random.normal(loc=0.3, scale=0.8, size=(self.M2, self.M1))\n",
    "        self.W[3] = numpy.random.normal(loc=0.3, scale=0.8, size=(1, self.M2))\n",
    "        \n",
    "        self.thresh = {}\n",
    "        self.thresh[1] = numpy.zeros(shape=self.M1)\n",
    "        self.thresh[2] = numpy.zeros(shape=self.M2)\n",
    "        self.thresh[3] = 0\n",
    "        \n",
    "        self.V = {}\n",
    "        self.delta = {}\n",
    "        \n",
    "        for iteration in range(self.n_iter):\n",
    "            selection = numpy.random.randint(X.shape[0])\n",
    "            self.V[0] = X[selection]\n",
    "            ti = T[selection]\n",
    "            \n",
    "            #FEED-FORWARD:\n",
    "            for l in range(3):\n",
    "                self.V[l+1] = numpy.tanh(numpy.dot(self.W[l+1], self.V[l]) - self.thresh[l+1])\n",
    "\n",
    "            #OUTPUT LAYER ERROR:\n",
    "            oi = self.V[list(self.V.keys())[-1]] #Output\n",
    "            self.delta[3] = (ti - oi) * (1-numpy.tanh(oi)**2)\n",
    "\n",
    "            #BACK-PROPAGATE:\n",
    "            for l in range(3, 1, -1):\n",
    "                g_prime = 1 - numpy.tanh(numpy.dot(self.W[l-1], self.V[l-2]) - self.thresh[l-1])**2\n",
    "                self.delta[l-1] = (numpy.dot(self.W[l].T, self.delta[l]))*g_prime\n",
    "\n",
    "            #UPDATE:\n",
    "            for l in range(1,3):\n",
    "                d_weight = self.eta*(self.delta[l].reshape((self.delta[l].shape[0],1)))*self.V[l-1]\n",
    "                self.W[l] = self.W[l] + d_weight\n",
    "                \n",
    "                d_theta = self.eta*(self.delta[l])\n",
    "                self.thresh[l] = self.thresh[l] - d_theta\n",
    "                \n",
    "    def predict(self, X):\n",
    "        self.V[0] = X\n",
    "        for l in range(3):\n",
    "            self.V[l+1] = numpy.tanh(numpy.dot(self.W[l+1], self.V[l]) - self.thresh[l+1])\n",
    "        \n",
    "        out = self.V[list(self.V.keys())[-1]]\n",
    "        \n",
    "        return out"
   ]
  },
  {
   "cell_type": "code",
   "execution_count": 46,
   "metadata": {},
   "outputs": [],
   "source": [
    "per = Perceptron2(100000, 20, 20)"
   ]
  },
  {
   "cell_type": "code",
   "execution_count": 47,
   "metadata": {},
   "outputs": [],
   "source": [
    "per.train(train_set[:,:2], train_set[:,2])"
   ]
  },
  {
   "cell_type": "code",
   "execution_count": 48,
   "metadata": {},
   "outputs": [
    {
     "name": "stdout",
     "output_type": "stream",
     "text": [
      "[0.2642983] -1.0\n",
      "[-0.78465193] -1.0\n",
      "[-0.13231483] 1.0\n",
      "[-0.69838287] -1.0\n",
      "[-0.09934061] -1.0\n",
      "[-0.74851017] -1.0\n",
      "[-0.47013681] -1.0\n",
      "[-0.68574455] -1.0\n",
      "[-0.88636524] -1.0\n",
      "[-0.80593689] -1.0\n",
      "[-0.46078803] -1.0\n",
      "[-0.67590483] -1.0\n",
      "[-0.8130869] -1.0\n",
      "[-0.71477146] -1.0\n",
      "[-0.81202259] -1.0\n",
      "[-0.83851869] -1.0\n",
      "[-0.68416587] -1.0\n",
      "[-0.82989812] -1.0\n",
      "[-0.77740137] -1.0\n",
      "[-0.70914852] -1.0\n"
     ]
    }
   ],
   "source": [
    "for i in train_set[-20:]:\n",
    "    print(per.predict(i[:2]), i[2])"
   ]
  },
  {
   "cell_type": "code",
   "execution_count": 52,
   "metadata": {},
   "outputs": [
    {
     "name": "stdout",
     "output_type": "stream",
     "text": [
      "15.11%\n"
     ]
    }
   ],
   "source": [
    "diff = 0\n",
    "for i in validation_set:\n",
    "    diff += numpy.abs(round(per.predict(i[:2])[0]) - i[2])\n",
    "#     diff += numpy.abs(per.predict(i[:2]), i[2])\n",
    "\n",
    "\n",
    "print(f\"{diff/(10000):.2%}\") \n",
    "    "
   ]
  },
  {
   "cell_type": "code",
   "execution_count": 55,
   "metadata": {},
   "outputs": [
    {
     "data": {
      "text/plain": [
       "{0: array([ 0.84463, -0.17899]),\n",
       " 1: array([ 0.40041065, -0.9222225 ,  0.70619472,  0.26496526,  0.70930644,\n",
       "         0.89219101, -0.20514949, -0.58239717,  0.71584565, -0.84550075,\n",
       "        -0.67556268,  0.90457825,  0.63752381,  0.79951302,  0.17440209,\n",
       "        -0.94599567,  0.97360778,  0.62756296, -0.61105531,  0.65731982]),\n",
       " 2: array([-0.97205272, -0.84583349,  0.99998811,  0.96869172,  0.85948084,\n",
       "        -0.93592385,  0.9999951 , -0.8820443 ,  0.64105413,  0.99903004,\n",
       "         0.99985666,  0.96183197, -0.942206  ,  0.99856451,  0.99041585,\n",
       "        -0.99999524, -0.99825725, -0.80447898,  0.41680665,  0.90564485]),\n",
       " 3: array([-0.79583405])}"
      ]
     },
     "execution_count": 55,
     "metadata": {},
     "output_type": "execute_result"
    }
   ],
   "source": [
    "per.V"
   ]
  }
 ],
 "metadata": {
  "kernelspec": {
   "display_name": "Python 3",
   "language": "python",
   "name": "python3"
  },
  "language_info": {
   "codemirror_mode": {
    "name": "ipython",
    "version": 3
   },
   "file_extension": ".py",
   "mimetype": "text/x-python",
   "name": "python",
   "nbconvert_exporter": "python",
   "pygments_lexer": "ipython3",
   "version": "3.8.3"
  }
 },
 "nbformat": 4,
 "nbformat_minor": 4
}
