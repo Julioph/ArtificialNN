{
 "cells": [
  {
   "cell_type": "code",
   "execution_count": 1,
   "metadata": {},
   "outputs": [],
   "source": [
    "import numpy"
   ]
  },
  {
   "cell_type": "code",
   "execution_count": 7,
   "metadata": {},
   "outputs": [],
   "source": [
    "train_set = numpy.genfromtxt(\"training_setHW2_4.csv\", delimiter=\",\")\n",
    "validation_set = numpy.genfromtxt(\"validation_setHW2_4.csv\", delimiter=\",\")"
   ]
  },
  {
   "cell_type": "code",
   "execution_count": 10,
   "metadata": {},
   "outputs": [
    {
     "data": {
      "text/plain": [
       "array([-0.74724,  0.49435, -1.     ])"
      ]
     },
     "execution_count": 10,
     "metadata": {},
     "output_type": "execute_result"
    }
   ],
   "source": [
    "class Perceptron2:\n",
    "    \n",
    "    def __init__(self, n_iter):\n",
    "        self.n_iter = n_iter\n",
    "        self.eta = 0.05\n",
    "    \n",
    "    def train(self, X, T):\n",
    "        self.W1 = numpy.random.normal(size=(M1, 2))\n",
    "        self.W2 = numpy.random.normal(size=(M2, M1))\n",
    "        self.W3 = numpy.random.normal(size=(M2, 1))\n",
    "        self.thresh1 = numpy.zeros()\n",
    "        self.thresh2 = numpy.zeros()\n",
    "        self.thresh3 = numpy.zeros()\n",
    "        \n",
    "        for iteration in range(self.n_iter):\n",
    "            selection = numpy.random.randint(X.shape[0])\n",
    "            V[0] = X[selection]\n",
    "            for l in range(2):\n",
    "                V[l+1] = numpy.tanh(numpy.dot(self.W1, V[l]) - self.thresh1)\n",
    "        \n",
    "        \n",
    "        "
   ]
  },
  {
   "cell_type": "code",
   "execution_count": 38,
   "metadata": {},
   "outputs": [
    {
     "data": {
      "text/plain": [
       "0"
      ]
     },
     "execution_count": 38,
     "metadata": {},
     "output_type": "execute_result"
    }
   ],
   "source": []
  }
 ],
 "metadata": {
  "kernelspec": {
   "display_name": "Python 3",
   "language": "python",
   "name": "python3"
  },
  "language_info": {
   "codemirror_mode": {
    "name": "ipython",
    "version": 3
   },
   "file_extension": ".py",
   "mimetype": "text/x-python",
   "name": "python",
   "nbconvert_exporter": "python",
   "pygments_lexer": "ipython3",
   "version": "3.8.3"
  }
 },
 "nbformat": 4,
 "nbformat_minor": 4
}
